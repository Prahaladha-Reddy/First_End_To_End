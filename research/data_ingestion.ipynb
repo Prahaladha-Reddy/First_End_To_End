{
 "cells": [
  {
   "cell_type": "code",
   "execution_count": 11,
   "metadata": {},
   "outputs": [],
   "source": [
    "from dataclasses import dataclass\n",
    "from pathlib import Path\n",
    "\n",
    "@dataclass\n",
    "class DataIngestionconfig:\n",
    "  root_dir:Path\n",
    "  source_URL:str\n",
    "  local_data_file : Path\n",
    "  unzip_dir :Path\n"
   ]
  },
  {
   "cell_type": "code",
   "execution_count": 3,
   "metadata": {},
   "outputs": [
    {
     "name": "stdout",
     "output_type": "stream",
     "text": [
      "c:\\Users\\bored\\Music\\Datascience\\First_End_To_End\\research\n"
     ]
    }
   ],
   "source": [
    "import os\n",
    "print(os.getcwd())\n"
   ]
  },
  {
   "cell_type": "code",
   "execution_count": 5,
   "metadata": {},
   "outputs": [],
   "source": [
    "import sys\n",
    "from pathlib import Path\n",
    "\n",
    "# Add the project root directory to sys.path\n",
    "project_root = Path().resolve()  # Resolves to c:\\Users\\bored\\Music\\Datascience\\First_End_To_End\n",
    "sys.path.append(str(project_root))\n"
   ]
  },
  {
   "cell_type": "code",
   "execution_count": 7,
   "metadata": {},
   "outputs": [
    {
     "name": "stdout",
     "output_type": "stream",
     "text": [
      "c:\\Users\\bored\\Music\\Datascience\\First_End_To_End\\venve\\python310.zip\n",
      "c:\\Users\\bored\\Music\\Datascience\\First_End_To_End\\venve\\DLLs\n",
      "c:\\Users\\bored\\Music\\Datascience\\First_End_To_End\\venve\\lib\n",
      "c:\\Users\\bored\\Music\\Datascience\\First_End_To_End\\venve\n",
      "\n",
      "c:\\Users\\bored\\Music\\Datascience\\First_End_To_End\\venve\\lib\\site-packages\n",
      "c:\\Users\\bored\\Music\\Datascience\\First_End_To_End\\venve\\lib\\site-packages\\win32\n",
      "c:\\Users\\bored\\Music\\Datascience\\First_End_To_End\\venve\\lib\\site-packages\\win32\\lib\n",
      "c:\\Users\\bored\\Music\\Datascience\\First_End_To_End\\venve\\lib\\site-packages\\Pythonwin\n",
      "C:\\Users\\bored\\Music\\Datascience\\First_End_To_End\\research\n"
     ]
    }
   ],
   "source": [
    "import sys\n",
    "print(\"\\n\".join(sys.path))\n"
   ]
  },
  {
   "cell_type": "code",
   "execution_count": 1,
   "metadata": {},
   "outputs": [
    {
     "name": "stdout",
     "output_type": "stream",
     "text": [
      "c:\\Users\\bored\\Music\\Datascience\\First_End_To_End\\venve\\python.exe\n"
     ]
    }
   ],
   "source": [
    "import sys\n",
    "print(sys.executable)\n"
   ]
  },
  {
   "cell_type": "code",
   "execution_count": 2,
   "metadata": {},
   "outputs": [
    {
     "ename": "SyntaxError",
     "evalue": "invalid syntax. Perhaps you forgot a comma? (2319380448.py, line 1)",
     "output_type": "error",
     "traceback": [
      "\u001b[1;36m  Cell \u001b[1;32mIn[2], line 1\u001b[1;36m\u001b[0m\n\u001b[1;33m    python -c \"import src\"\u001b[0m\n\u001b[1;37m           ^\u001b[0m\n\u001b[1;31mSyntaxError\u001b[0m\u001b[1;31m:\u001b[0m invalid syntax. Perhaps you forgot a comma?\n"
     ]
    }
   ],
   "source": [
    "python -c \"import src\"\n"
   ]
  },
  {
   "cell_type": "code",
   "execution_count": 4,
   "metadata": {},
   "outputs": [
    {
     "name": "stdout",
     "output_type": "stream",
     "text": [
      "c:\\Users\\bored\\Music\\Datascience\\First_End_To_End\\venve\\python310.zip\n",
      "c:\\Users\\bored\\Music\\Datascience\\First_End_To_End\\venve\\DLLs\n",
      "c:\\Users\\bored\\Music\\Datascience\\First_End_To_End\\venve\\lib\n",
      "c:\\Users\\bored\\Music\\Datascience\\First_End_To_End\\venve\n",
      "\n",
      "c:\\Users\\bored\\Music\\Datascience\\First_End_To_End\\venve\\lib\\site-packages\n",
      "c:\\Users\\bored\\Music\\Datascience\\First_End_To_End\\venve\\lib\\site-packages\\win32\n",
      "c:\\Users\\bored\\Music\\Datascience\\First_End_To_End\\venve\\lib\\site-packages\\win32\\lib\n",
      "c:\\Users\\bored\\Music\\Datascience\\First_End_To_End\\venve\\lib\\site-packages\\Pythonwin\n"
     ]
    }
   ],
   "source": [
    "import sys\n",
    "print(\"\\n\".join(sys.path))\n"
   ]
  },
  {
   "cell_type": "code",
   "execution_count": 5,
   "metadata": {},
   "outputs": [],
   "source": [
    "import sys\n",
    "from pathlib import Path\n",
    "\n",
    "# Add project root directory to sys.path\n",
    "project_root = Path(r\"c:\\Users\\bored\\Music\\Datascience\\First_End_To_End\")\n",
    "sys.path.append(str(project_root))\n"
   ]
  },
  {
   "cell_type": "code",
   "execution_count": 6,
   "metadata": {},
   "outputs": [
    {
     "name": "stdout",
     "output_type": "stream",
     "text": [
      "c:\\Users\\bored\\Music\\Datascience\\First_End_To_End\\venve\\python310.zip\n",
      "c:\\Users\\bored\\Music\\Datascience\\First_End_To_End\\venve\\DLLs\n",
      "c:\\Users\\bored\\Music\\Datascience\\First_End_To_End\\venve\\lib\n",
      "c:\\Users\\bored\\Music\\Datascience\\First_End_To_End\\venve\n",
      "\n",
      "c:\\Users\\bored\\Music\\Datascience\\First_End_To_End\\venve\\lib\\site-packages\n",
      "c:\\Users\\bored\\Music\\Datascience\\First_End_To_End\\venve\\lib\\site-packages\\win32\n",
      "c:\\Users\\bored\\Music\\Datascience\\First_End_To_End\\venve\\lib\\site-packages\\win32\\lib\n",
      "c:\\Users\\bored\\Music\\Datascience\\First_End_To_End\\venve\\lib\\site-packages\\Pythonwin\n",
      "c:\\Users\\bored\\Music\\Datascience\\First_End_To_End\n"
     ]
    }
   ],
   "source": [
    "print(\"\\n\".join(sys.path))\n"
   ]
  },
  {
   "cell_type": "code",
   "execution_count": 7,
   "metadata": {},
   "outputs": [],
   "source": [
    "from src.datascience.constants import *\n"
   ]
  },
  {
   "cell_type": "code",
   "execution_count": 8,
   "metadata": {},
   "outputs": [],
   "source": [
    "from src.datascience.constants import *\n",
    "from src.datascience.utils.common import *"
   ]
  },
  {
   "cell_type": "code",
   "execution_count": 12,
   "metadata": {},
   "outputs": [],
   "source": [
    "class ConfigurationManager:\n",
    "  def __init__(self,\n",
    "               config_filepath=CONFIG_FILE_PATH,\n",
    "               schema_filepath=SCHEMA_FILE_PATH,\n",
    "               params_filepath=PARAMS_FILE_PATH):\n",
    "    self.config=read_yaml(config_filepath)\n",
    "    self.schema=read_yaml(schema_filepath)\n",
    "    self.params=read_yaml(params_filepath)\n",
    "    create_directories([self.config.artifacts_root])\n",
    "  \n",
    "  def get_data_ingestion_config(self)->DataIngestionconfig:\n",
    "    config=self.config.data_ingestion\n",
    "    create_directories([config.root_dir])\n",
    "\n",
    "    data_ingestion_config=DataIngestionconfig(\n",
    "      root_dir=config.root_dir,\n",
    "      source_URL=config.source_URL,\n",
    "      local_data_file=config.local_data_file,\n",
    "      unzip_dir=config.unzip_dir\n",
    "    )\n",
    "    return data_ingestion_config"
   ]
  },
  {
   "cell_type": "code",
   "execution_count": 13,
   "metadata": {},
   "outputs": [],
   "source": [
    "import os\n",
    "import urllib.request as request\n",
    "from src.datascience import logger"
   ]
  },
  {
   "cell_type": "code",
   "execution_count": 14,
   "metadata": {},
   "outputs": [],
   "source": [
    "import zipfile"
   ]
  },
  {
   "cell_type": "code",
   "execution_count": 15,
   "metadata": {},
   "outputs": [],
   "source": [
    "class DataIngestion:\n",
    "  def __init__(self,config:DataIngestionconfig):\n",
    "    self.config=config\n",
    "\n",
    "  def download_file(self):\n",
    "    if not os.path.exists(self.config.local_data_file):\n",
    "      filename,header=request.urlretrieve(\n",
    "        url=self.config.source_URL,\n",
    "        filename=self.config.local_data_file\n",
    "      )\n",
    "      logger.info(f'{filename} downloaded! with following info\\n{header}')\n",
    "    else:\n",
    "      logger.info(f'File already exists')\n",
    "  def extract_zip(self):\n",
    "    unzip_path=self.config.unzip_dir\n",
    "    os.makedirs(unzip_path,exist_ok=True)\n",
    "    with zipfile.ZipFile(self.config.local_data_file,'r') as zip_ref:\n",
    "      zip_ref.extractall(unzip_path)"
   ]
  },
  {
   "cell_type": "code",
   "execution_count": 17,
   "metadata": {},
   "outputs": [],
   "source": [
    "import os\n",
    "os.chdir(r\"c:\\Users\\bored\\Music\\Datascience\\First_End_To_End\")\n"
   ]
  },
  {
   "cell_type": "code",
   "execution_count": 18,
   "metadata": {},
   "outputs": [
    {
     "name": "stdout",
     "output_type": "stream",
     "text": [
      "[2024-11-29 14:44:34,386 : INFO : common : yaml file: config\\config.yaml loaded successfully]\n",
      "[2024-11-29 14:44:34,401 : INFO : common : yaml file: schema.yaml loaded successfully]\n",
      "[2024-11-29 14:44:34,408 : INFO : common : yaml file: params.yaml loaded successfully]\n",
      "[2024-11-29 14:44:34,410 : INFO : common : created directory at: artifacts]\n",
      "[2024-11-29 14:44:34,413 : INFO : common : created directory at: artifacts/data_ingestion]\n"
     ]
    },
    {
     "name": "stdout",
     "output_type": "stream",
     "text": [
      "[2024-11-29 14:44:37,523 : INFO : 2612170600 : artifacts/data_ingestion/data.zip downloaded! with following info\n",
      "Connection: close\n",
      "Content-Length: 23329\n",
      "Cache-Control: max-age=300\n",
      "Content-Security-Policy: default-src 'none'; style-src 'unsafe-inline'; sandbox\n",
      "Content-Type: application/zip\n",
      "ETag: \"c69888a4ae59bc5a893392785a938ccd4937981c06ba8a9d6a21aa52b4ab5b6e\"\n",
      "Strict-Transport-Security: max-age=31536000\n",
      "X-Content-Type-Options: nosniff\n",
      "X-Frame-Options: deny\n",
      "X-XSS-Protection: 1; mode=block\n",
      "X-GitHub-Request-Id: F5A4:9EF9F:FF1F3:142E37:674985FC\n",
      "Accept-Ranges: bytes\n",
      "Date: Fri, 29 Nov 2024 09:14:37 GMT\n",
      "Via: 1.1 varnish\n",
      "X-Served-By: cache-hyd1100031-HYD\n",
      "X-Cache: MISS\n",
      "X-Cache-Hits: 0\n",
      "X-Timer: S1732871677.157480,VS0,VE310\n",
      "Vary: Authorization,Accept-Encoding,Origin\n",
      "Access-Control-Allow-Origin: *\n",
      "Cross-Origin-Resource-Policy: cross-origin\n",
      "X-Fastly-Request-ID: bcd05936c29dcc8074ec20ed1575852d7c0e1594\n",
      "Expires: Fri, 29 Nov 2024 09:19:37 GMT\n",
      "Source-Age: 0\n",
      "\n",
      "]\n"
     ]
    }
   ],
   "source": [
    "try:\n",
    "  config=ConfigurationManager()\n",
    "  data_ingestion_config=config.get_data_ingestion_config()\n",
    "  data_ingestion=DataIngestion(config=data_ingestion_config)\n",
    "  data_ingestion.download_file()\n",
    "  data_ingestion.extract_zip()\n",
    "except Exception as e:\n",
    "  raise e"
   ]
  },
  {
   "cell_type": "code",
   "execution_count": null,
   "metadata": {},
   "outputs": [],
   "source": []
  }
 ],
 "metadata": {
  "kernelspec": {
   "display_name": "Python 3",
   "language": "python",
   "name": "python3"
  },
  "language_info": {
   "codemirror_mode": {
    "name": "ipython",
    "version": 3
   },
   "file_extension": ".py",
   "mimetype": "text/x-python",
   "name": "python",
   "nbconvert_exporter": "python",
   "pygments_lexer": "ipython3",
   "version": "3.10.0"
  }
 },
 "nbformat": 4,
 "nbformat_minor": 2
}
